{
 "cells": [
  {
   "cell_type": "code",
   "execution_count": 5,
   "metadata": {},
   "outputs": [],
   "source": [
    "import h5py    \n",
    "import numpy as np \n",
    "import matplotlib.pyplot as plt\n",
    "from pyjet import cluster,DTYPE_PTEPM\n",
    "import pandas as pd"
   ]
  },
  {
   "cell_type": "code",
   "execution_count": 6,
   "metadata": {},
   "outputs": [],
   "source": [
    "f = pd.read_hdf(\"/Volumes/BigDisk/Work/MachineLearning/LHCOlympics2020/events_anomalydetection.h5\")"
   ]
  },
  {
   "cell_type": "code",
   "execution_count": 13,
   "metadata": {},
   "outputs": [
    {
     "data": {
      "text/plain": [
       "0       float64\n",
       "1       float64\n",
       "2       float64\n",
       "3       float64\n",
       "4       float64\n",
       "5       float64\n",
       "6       float64\n",
       "7       float64\n",
       "8       float64\n",
       "9       float64\n",
       "10      float64\n",
       "11      float64\n",
       "12      float64\n",
       "13      float64\n",
       "14      float64\n",
       "15      float64\n",
       "16      float64\n",
       "17      float64\n",
       "18      float64\n",
       "19      float64\n",
       "20      float64\n",
       "21      float64\n",
       "22      float64\n",
       "23      float64\n",
       "24      float64\n",
       "25      float64\n",
       "26      float64\n",
       "27      float64\n",
       "28      float64\n",
       "29      float64\n",
       "         ...   \n",
       "2071    float64\n",
       "2072    float64\n",
       "2073    float64\n",
       "2074    float64\n",
       "2075    float64\n",
       "2076    float64\n",
       "2077    float64\n",
       "2078    float64\n",
       "2079    float64\n",
       "2080    float64\n",
       "2081    float64\n",
       "2082    float64\n",
       "2083    float64\n",
       "2084    float64\n",
       "2085    float64\n",
       "2086    float64\n",
       "2087    float64\n",
       "2088    float64\n",
       "2089    float64\n",
       "2090    float64\n",
       "2091    float64\n",
       "2092    float64\n",
       "2093    float64\n",
       "2094    float64\n",
       "2095    float64\n",
       "2096    float64\n",
       "2097    float64\n",
       "2098    float64\n",
       "2099    float64\n",
       "2100    float64\n",
       "Length: 2101, dtype: object"
      ]
     },
     "execution_count": 13,
     "metadata": {},
     "output_type": "execute_result"
    }
   ],
   "source": [
    "f.dtypes"
   ]
  },
  {
   "cell_type": "code",
   "execution_count": 7,
   "metadata": {},
   "outputs": [],
   "source": [
    "events_combined = f.T"
   ]
  },
  {
   "cell_type": "code",
   "execution_count": 14,
   "metadata": {},
   "outputs": [
    {
     "data": {
      "text/plain": [
       "0          float64\n",
       "1          float64\n",
       "2          float64\n",
       "3          float64\n",
       "4          float64\n",
       "5          float64\n",
       "6          float64\n",
       "7          float64\n",
       "8          float64\n",
       "9          float64\n",
       "10         float64\n",
       "11         float64\n",
       "12         float64\n",
       "13         float64\n",
       "14         float64\n",
       "15         float64\n",
       "16         float64\n",
       "17         float64\n",
       "18         float64\n",
       "19         float64\n",
       "20         float64\n",
       "21         float64\n",
       "22         float64\n",
       "23         float64\n",
       "24         float64\n",
       "25         float64\n",
       "26         float64\n",
       "27         float64\n",
       "28         float64\n",
       "29         float64\n",
       "            ...   \n",
       "1099970    float64\n",
       "1099971    float64\n",
       "1099972    float64\n",
       "1099973    float64\n",
       "1099974    float64\n",
       "1099975    float64\n",
       "1099976    float64\n",
       "1099977    float64\n",
       "1099978    float64\n",
       "1099979    float64\n",
       "1099980    float64\n",
       "1099981    float64\n",
       "1099982    float64\n",
       "1099983    float64\n",
       "1099984    float64\n",
       "1099985    float64\n",
       "1099986    float64\n",
       "1099987    float64\n",
       "1099988    float64\n",
       "1099989    float64\n",
       "1099990    float64\n",
       "1099991    float64\n",
       "1099992    float64\n",
       "1099993    float64\n",
       "1099994    float64\n",
       "1099995    float64\n",
       "1099996    float64\n",
       "1099997    float64\n",
       "1099998    float64\n",
       "1099999    float64\n",
       "Length: 1100000, dtype: object"
      ]
     },
     "execution_count": 14,
     "metadata": {},
     "output_type": "execute_result"
    }
   ],
   "source": [
    "events_combined.dtypes"
   ]
  },
  {
   "cell_type": "code",
   "execution_count": 8,
   "metadata": {},
   "outputs": [
    {
     "data": {
      "text/plain": [
       "(2101, 1100000)"
      ]
     },
     "execution_count": 8,
     "metadata": {},
     "output_type": "execute_result"
    }
   ],
   "source": [
    "np.shape(events_combined)"
   ]
  },
  {
   "cell_type": "code",
   "execution_count": 9,
   "metadata": {},
   "outputs": [
    {
     "name": "stdout",
     "output_type": "stream",
     "text": [
      "background 0\n",
      "background 10000\n",
      "background 20000\n",
      "background 30000\n",
      "background 40000\n",
      "background 50000\n",
      "background 60000\n",
      "background 70000\n",
      "background 80000\n",
      "background 90000\n",
      "signal 0\n",
      "signal 10000\n",
      "signal 20000\n",
      "signal 30000\n",
      "signal 40000\n",
      "signal 50000\n",
      "signal 60000\n",
      "signal 70000\n",
      "signal 80000\n",
      "signal 90000\n"
     ]
    }
   ],
   "source": [
    "#Now, let's cluster some jets!\n",
    "leadpT = {}\n",
    "alljets = {}\n",
    "for mytype in ['background','signal']:\n",
    "    leadpT[mytype]=[]\n",
    "    alljets[mytype]=[]\n",
    "    for i in range(100000): #len(events_combined)):\n",
    "        if (i%10000==0):\n",
    "            print(mytype,i)\n",
    "            pass\n",
    "        issignal = events_combined[i][2100]\n",
    "        if (mytype=='background' and issignal):\n",
    "            continue\n",
    "        elif (mytype=='signal' and issignal==0):\n",
    "             continue\n",
    "        pseudojets_input = np.zeros(len([x for x in events_combined[i][::3] if x > 0]), dtype=DTYPE_PTEPM)\n",
    "        for j in range(700):\n",
    "            if (events_combined[i][j*3]>0):\n",
    "                pseudojets_input[j]['pT'] = events_combined[i][j*3]\n",
    "                pseudojets_input[j]['eta'] = events_combined[i][j*3+1]\n",
    "                pseudojets_input[j]['phi'] = events_combined[i][j*3+2]\n",
    "                pass\n",
    "            pass\n",
    "        sequence = cluster(pseudojets_input, R=1.0, p=-1)\n",
    "        jets = sequence.inclusive_jets(ptmin=20)\n",
    "        leadpT[mytype] += [jets[0].pt]\n",
    "        alljets[mytype] += [jets]\n",
    "        pass"
   ]
  },
  {
   "cell_type": "code",
   "execution_count": 10,
   "metadata": {},
   "outputs": [
    {
     "data": {
      "image/png": "[encoded data removed]",
      "text/plain": [
       "<Figure size 432x288 with 1 Axes>"
      ]
     },
     "metadata": {
      "needs_background": "light"
     },
     "output_type": "display_data"
    },
    {
     "data": {
      "text/plain": [
       "<Figure size 432x288 with 0 Axes>"
      ]
     },
     "metadata": {},
     "output_type": "display_data"
    }
   ],
   "source": [
    "#Let's make some very simple plots.\n",
    "fig = plt.figure()\n",
    "ax = fig.add_subplot(1, 1, 1)\n",
    "n,b,p = plt.hist(leadpT['background'], bins=50, facecolor='r', alpha=0.2,label='background')\n",
    "plt.hist(leadpT['signal'], bins=b, facecolor='b', alpha=0.2,label='signal')\n",
    "plt.xlabel(r'Leading jet $p_{T}$ [GeV]')\n",
    "plt.ylabel('Number of events')\n",
    "plt.legend(loc='upper right')\n",
    "plt.show()\n",
    "plt.savefig(\"leadjetpt.pdf\")"
   ]
  },
  {
   "cell_type": "code",
   "execution_count": 11,
   "metadata": {},
   "outputs": [],
   "source": [
    "mjj={}\n",
    "for mytype in ['background','signal']:\n",
    "    mjj[mytype]=[]\n",
    "    for k in range(len(alljets[mytype])):\n",
    "        E = alljets[mytype][k][0].e+alljets[mytype][k][1].e\n",
    "        px = alljets[mytype][k][0].px+alljets[mytype][k][1].px\n",
    "        py = alljets[mytype][k][0].py+alljets[mytype][k][1].py\n",
    "        pz = alljets[mytype][k][0].pz+alljets[mytype][k][1].pz\n",
    "        mjj[mytype]+=[(E**2-px**2-py**2-pz**2)**0.5]\n",
    "        pass\n",
    "    pass"
   ]
  },
  {
   "cell_type": "code",
   "execution_count": 12,
   "metadata": {},
   "outputs": [
    {
     "data": {
      "image/png": "[encoded data removed]",
      "text/plain": [
       "<Figure size 432x288 with 1 Axes>"
      ]
     },
     "metadata": {
      "needs_background": "light"
     },
     "output_type": "display_data"
    },
    {
     "data": {
      "text/plain": [
       "<Figure size 432x288 with 0 Axes>"
      ]
     },
     "metadata": {},
     "output_type": "display_data"
    }
   ],
   "source": [
    "fig = plt.figure()\n",
    "ax = fig.add_subplot(1, 1, 1)\n",
    "n,b,p = plt.hist(mjj['background'], bins=50, facecolor='r', alpha=0.2,label='background')\n",
    "plt.hist(mjj['signal'], bins=b, facecolor='b', alpha=0.2,label='signal')\n",
    "plt.xlabel(r'$m_{JJ}$ [GeV]')\n",
    "plt.ylabel('Number of events')\n",
    "plt.legend(loc='upper right')\n",
    "plt.show()\n",
    "plt.savefig(\"mjj.pdf\")"
   ]
  },
  {
   "cell_type": "code",
   "execution_count": null,
   "metadata": {},
   "outputs": [],
   "source": []
  }
 ],
 "metadata": {
  "kernelspec": {
   "display_name": "Python 3",
   "language": "python",
   "name": "python3"
  },
  "language_info": {
   "codemirror_mode": {
    "name": "ipython",
    "version": 3
   },
   "file_extension": ".py",
   "mimetype": "text/x-python",
   "name": "python",
   "nbconvert_exporter": "python",
   "pygments_lexer": "ipython3",
   "version": "3.7.2"
  }
 },
 "nbformat": 4,
 "nbformat_minor": 2
}
